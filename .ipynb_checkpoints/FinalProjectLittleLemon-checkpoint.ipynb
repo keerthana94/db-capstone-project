{
 "cells": [
  {
   "cell_type": "code",
   "execution_count": 1,
   "id": "67c035a6",
   "metadata": {},
   "outputs": [
    {
     "name": "stdout",
     "output_type": "stream",
     "text": [
      "Requirement already satisfied: mysql-connector-python in /Library/Frameworks/Python.framework/Versions/3.12/lib/python3.12/site-packages (8.3.0)\n",
      "\n",
      "\u001b[1m[\u001b[0m\u001b[34;49mnotice\u001b[0m\u001b[1;39;49m]\u001b[0m\u001b[39;49m A new release of pip is available: \u001b[0m\u001b[31;49m23.3.1\u001b[0m\u001b[39;49m -> \u001b[0m\u001b[32;49m24.0\u001b[0m\n",
      "\u001b[1m[\u001b[0m\u001b[34;49mnotice\u001b[0m\u001b[1;39;49m]\u001b[0m\u001b[39;49m To update, run: \u001b[0m\u001b[32;49mpip install --upgrade pip\u001b[0m\n"
     ]
    }
   ],
   "source": [
    "# Use to install mysql connector API if not installed\n",
    "!pip install mysql-connector-python"
   ]
  },
  {
   "cell_type": "code",
   "execution_count": 2,
   "id": "2317cb13",
   "metadata": {},
   "outputs": [],
   "source": [
    "# use to import the mysql connector API\n",
    "import mysql.connector as connector"
   ]
  },
  {
   "cell_type": "code",
   "execution_count": 16,
   "id": "c582f034",
   "metadata": {},
   "outputs": [],
   "source": [
    "# Establish connection b/w Python and MySQL database via connector API\n",
    "connection = connector.connect(user = \"keerthana\", password = \"keerthana\",database=\"LittleLemonAnalysis\")"
   ]
  },
  {
   "cell_type": "code",
   "execution_count": 17,
   "id": "5691a525",
   "metadata": {},
   "outputs": [],
   "source": [
    "# Create a cursor object to communicate with entire MySQL database\n",
    "cursor = connection.cursor()"
   ]
  },
  {
   "cell_type": "code",
   "execution_count": 18,
   "id": "8cae69a7",
   "metadata": {},
   "outputs": [],
   "source": [
    "# Set the little_lemon database for use \n",
    "cursor.execute(\"USE LittleLemonAnalysis\")"
   ]
  },
  {
   "cell_type": "code",
   "execution_count": 19,
   "id": "8e4ec8d4",
   "metadata": {},
   "outputs": [
    {
     "data": {
      "text/plain": [
       "'littlelemonanalysis'"
      ]
     },
     "execution_count": 19,
     "metadata": {},
     "output_type": "execute_result"
    }
   ],
   "source": [
    "# Confirm the database in use\n",
    "connection.database"
   ]
  },
  {
   "cell_type": "code",
   "execution_count": 20,
   "id": "eef99360",
   "metadata": {},
   "outputs": [],
   "source": [
    "# Task 1 show your database tables\n",
    "\n",
    "# create SQL query as a string object and add to a variable\n",
    "show_tables_query = \"\"\"SHOW tables\"\"\" \n",
    "\n"
   ]
  },
  {
   "cell_type": "code",
   "execution_count": 21,
   "id": "0a271bc8",
   "metadata": {},
   "outputs": [],
   "source": [
    "# execute the query\n",
    "cursor.execute(show_tables_query)"
   ]
  },
  {
   "cell_type": "code",
   "execution_count": 22,
   "id": "9a852c5c",
   "metadata": {},
   "outputs": [],
   "source": [
    "# fetch the results from the cursor\n",
    "results = cursor.fetchall()\n",
    "\n"
   ]
  },
  {
   "cell_type": "code",
   "execution_count": 23,
   "id": "38fd2fc5",
   "metadata": {},
   "outputs": [],
   "source": [
    "# Retrieve the column names\n",
    "cols = cursor.column_names[1:]"
   ]
  },
  {
   "cell_type": "code",
   "execution_count": 24,
   "id": "b3a15c13",
   "metadata": {},
   "outputs": [
    {
     "name": "stdout",
     "output_type": "stream",
     "text": [
      "Tables in the little_lemon_db database:\n",
      "--------------------------------------\n",
      "()\n",
      "('Bookings',)\n",
      "('Customer',)\n",
      "('Menu',)\n",
      "('OrderDeliveryStatus',)\n",
      "('Orders',)\n",
      "('ordersview',)\n",
      "('Staff',)\n"
     ]
    }
   ],
   "source": [
    "# print column names and the records from results using for loop\n",
    "print(\"Tables in the little_lemon_db database:\")\n",
    "print(\"--------------------------------------\")\n",
    "print(cols)\n",
    "for result in results:\n",
    "    print(result)"
   ]
  },
  {
   "cell_type": "code",
   "execution_count": 28,
   "id": "16112131",
   "metadata": {},
   "outputs": [
    {
     "name": "stdout",
     "output_type": "stream",
     "text": [
      "Customers with orders greater than $60:\n",
      "---------------------------------------\n",
      "('FullName', 'Contact', 'TotalCost')\n",
      "('John Doe', 'john.doe@example.com', Decimal('110'))\n",
      "('Jane Smith', 'jane.smith@example.com', Decimal('195'))\n",
      "('Emily Jones', 'emily.jones@example.com', Decimal('100'))\n",
      "('Michael Brown', 'michael.brown@example.com', Decimal('120'))\n",
      "('Sarah Davis', 'sarah.davis@example.com', Decimal('140'))\n",
      "('William Miller', 'william.miller@example.com', Decimal('190'))\n",
      "('Olivia Wilson', 'olivia.wilson@example.com', Decimal('110'))\n",
      "('James Taylor', 'james.taylor@example.com', Decimal('150'))\n",
      "('Christopher Thomas', 'christopher.thomas@example.com', Decimal('180'))\n"
     ]
    }
   ],
   "source": [
    "sql_query = \"\"\"\n",
    "SELECT \n",
    "    CONCAT(C.GuestFirstName, ' ', C.GuestLastName) AS FullName,\n",
    "    C.Contact,\n",
    "    O.TotalCost\n",
    "FROM Customer C\n",
    "JOIN Bookings B ON C.CustomerID = B.CustomerID\n",
    "JOIN Orders O ON B.BookingID = O.BookingID\n",
    "WHERE O.TotalCost > 60;\n",
    "\n",
    "\n",
    "\"\"\"\n",
    "cursor.execute(sql_query)\n",
    "results = cursor.fetchall()\n",
    "cols = cursor.column_names\n",
    "print(\"Customers with orders greater than $60:\")\n",
    "print(\"---------------------------------------\")\n",
    "print(cols)\n",
    "for result in results:\n",
    "    print(result)"
   ]
  },
  {
   "cell_type": "code",
   "execution_count": 29,
   "id": "0d3bf7c2",
   "metadata": {},
   "outputs": [
    {
     "name": "stdout",
     "output_type": "stream",
     "text": [
      "The cursor is closed.\n",
      "MySQL connection is closed.\n"
     ]
    }
   ],
   "source": [
    "# Let's close the cursor and the connection\n",
    "if connection.is_connected():\n",
    "    cursor.close()\n",
    "    print(\"The cursor is closed.\")\n",
    "    connection.close()\n",
    "    print(\"MySQL connection is closed.\")\n",
    "else:\n",
    "    print(\"Connection is already closed.\")\n"
   ]
  },
  {
   "cell_type": "code",
   "execution_count": null,
   "id": "38be88aa",
   "metadata": {},
   "outputs": [],
   "source": []
  }
 ],
 "metadata": {
  "kernelspec": {
   "display_name": "Python 3 (ipykernel)",
   "language": "python",
   "name": "python3"
  },
  "language_info": {
   "codemirror_mode": {
    "name": "ipython",
    "version": 3
   },
   "file_extension": ".py",
   "mimetype": "text/x-python",
   "name": "python",
   "nbconvert_exporter": "python",
   "pygments_lexer": "ipython3",
   "version": "3.11.5"
  }
 },
 "nbformat": 4,
 "nbformat_minor": 5
}
